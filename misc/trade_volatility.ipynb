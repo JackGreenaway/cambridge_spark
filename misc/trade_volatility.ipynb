{
 "cells": [
  {
   "cell_type": "code",
   "execution_count": 43,
   "metadata": {},
   "outputs": [],
   "source": [
    "import numpy as np"
   ]
  },
  {
   "cell_type": "code",
   "execution_count": 72,
   "metadata": {},
   "outputs": [],
   "source": [
    "# trade duration (in minutes)\n",
    "t = 34.42\n",
    "\n",
    "# volatility in decimal (0.20 for 20%)\n",
    "vol = 0.20\n",
    "\n",
    "# number of trading minutes per session\n",
    "session_mins = 390"
   ]
  },
  {
   "cell_type": "code",
   "execution_count": 73,
   "metadata": {},
   "outputs": [],
   "source": [
    "# daily volatility\n",
    "                         # 30 because it's 30 days\n",
    "daily_vol = vol / np.sqrt(30 * session_mins)"
   ]
  },
  {
   "cell_type": "code",
   "execution_count": 75,
   "metadata": {},
   "outputs": [
    {
     "data": {
      "text/plain": [
       "0.010847820687825445"
      ]
     },
     "execution_count": 75,
     "metadata": {},
     "output_type": "execute_result"
    }
   ],
   "source": [
    "# calculate trade volatility\n",
    "trade_vol = daily_vol * np.sqrt(t)\n",
    "\n",
    "    # should it be multiplied by 100, 1_000 or 10_000\n",
    "trade_vol "
   ]
  },
  {
   "cell_type": "code",
   "execution_count": null,
   "metadata": {},
   "outputs": [],
   "source": []
  }
 ],
 "metadata": {
  "kernelspec": {
   "display_name": "Python 3",
   "language": "python",
   "name": "python3"
  },
  "language_info": {
   "codemirror_mode": {
    "name": "ipython",
    "version": 3
   },
   "file_extension": ".py",
   "mimetype": "text/x-python",
   "name": "python",
   "nbconvert_exporter": "python",
   "pygments_lexer": "ipython3",
   "version": "3.11.1"
  }
 },
 "nbformat": 4,
 "nbformat_minor": 2
}
