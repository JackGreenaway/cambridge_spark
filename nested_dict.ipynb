{
 "cells": [
  {
   "cell_type": "code",
   "execution_count": 1,
   "metadata": {},
   "outputs": [],
   "source": [
    "import pandas as pd\n",
    "from datetime import datetime"
   ]
  },
  {
   "cell_type": "code",
   "execution_count": 2,
   "metadata": {},
   "outputs": [],
   "source": [
    "exchange_info = {\n",
    "    \"LN\": {\n",
    "        \"start\": \"09:30\",\n",
    "        \"end\": \"17:30\",\n",
    "        \"exchange_rate\": 1.2853,\n",
    "        \"region\": \"WE\",\n",
    "        \"name\": \"London\"\n",
    "    },\n",
    "    \"US\": {\n",
    "        \"start\": \"13:30\",\n",
    "        \"end\": \"21:30\",\n",
    "        \"exchange_rate\": 1,\n",
    "        \"region\": \"NA\",\n",
    "        \"name\": \"United States\"\n",
    "    }\n",
    "}"
   ]
  },
  {
   "cell_type": "code",
   "execution_count": 3,
   "metadata": {},
   "outputs": [
    {
     "data": {
      "text/plain": [
       "{'LN': {'start': '09:30',\n",
       "  'end': '17:30',\n",
       "  'exchange_rate': 1.2853,\n",
       "  'region': 'WE',\n",
       "  'name': 'London'},\n",
       " 'US': {'start': '13:30',\n",
       "  'end': '21:30',\n",
       "  'exchange_rate': 1,\n",
       "  'region': 'NA',\n",
       "  'name': 'United States'}}"
      ]
     },
     "execution_count": 3,
     "metadata": {},
     "output_type": "execute_result"
    }
   ],
   "source": [
    "exchange_info"
   ]
  },
  {
   "cell_type": "code",
   "execution_count": 4,
   "metadata": {},
   "outputs": [],
   "source": [
    "example_df = pd.DataFrame({\n",
    "    \"exchange\": [\"LN\", \"LN\", \"US\", \"LN\", \"US\"],\n",
    "    \"start_time\": [\"09:34\", \"08:59\", \"10:44\", \"12:44\", \"9:34\"],\n",
    "    \"end_time\": [\"09:39\", \"21:59\", \"10:48\", \"12:34\", \"11:34\"],\n",
    "    \"price\": [452, 145, 34, 12, 4],\n",
    "    \"avg_price\": [45, 2, 45, 12, 5]\n",
    "})"
   ]
  },
  {
   "cell_type": "markdown",
   "metadata": {},
   "source": [
    "---"
   ]
  },
  {
   "cell_type": "code",
   "execution_count": 5,
   "metadata": {},
   "outputs": [],
   "source": [
    "example_df.loc[5] = [\"BZ\", \"05:44\", \"09:55\", 43, 55]"
   ]
  },
  {
   "cell_type": "code",
   "execution_count": 6,
   "metadata": {},
   "outputs": [],
   "source": [
    "def trade_within_hours(row):\n",
    "    exchange = row[\"exchange\"]\n",
    "    \n",
    "    if exchange in exchange_info.keys():\n",
    "        trade_start = datetime.strptime(row[\"start_time\"], \"%H:%M\").time()\n",
    "        trade_end = datetime.strptime(row[\"end_time\"], \"%H:%M\").time()\n",
    "        \n",
    "        open = datetime.strptime(exchange_info[exchange][\"start\"], \"%H:%M\").time()\n",
    "        close = datetime.strptime(exchange_info[exchange][\"end\"], \"%H:%M\").time()\n",
    "        \n",
    "        if trade_start > open and trade_end < close:\n",
    "            return True\n",
    "        else: \n",
    "            return False\n",
    "    else:\n",
    "        print(f\"exchange '{exchange}' not in dict\")"
   ]
  },
  {
   "cell_type": "code",
   "execution_count": 7,
   "metadata": {},
   "outputs": [
    {
     "name": "stdout",
     "output_type": "stream",
     "text": [
      "exchange 'BZ' not in dict\n"
     ]
    }
   ],
   "source": [
    "example_df[\"within_hours\"] = example_df.apply(trade_within_hours, axis=1)"
   ]
  },
  {
   "cell_type": "code",
   "execution_count": 8,
   "metadata": {},
   "outputs": [
    {
     "data": {
      "text/html": [
       "<div>\n",
       "<style scoped>\n",
       "    .dataframe tbody tr th:only-of-type {\n",
       "        vertical-align: middle;\n",
       "    }\n",
       "\n",
       "    .dataframe tbody tr th {\n",
       "        vertical-align: top;\n",
       "    }\n",
       "\n",
       "    .dataframe thead th {\n",
       "        text-align: right;\n",
       "    }\n",
       "</style>\n",
       "<table border=\"1\" class=\"dataframe\">\n",
       "  <thead>\n",
       "    <tr style=\"text-align: right;\">\n",
       "      <th></th>\n",
       "      <th>exchange</th>\n",
       "      <th>start_time</th>\n",
       "      <th>end_time</th>\n",
       "      <th>price</th>\n",
       "      <th>avg_price</th>\n",
       "      <th>within_hours</th>\n",
       "    </tr>\n",
       "  </thead>\n",
       "  <tbody>\n",
       "    <tr>\n",
       "      <th>0</th>\n",
       "      <td>LN</td>\n",
       "      <td>09:34</td>\n",
       "      <td>09:39</td>\n",
       "      <td>452</td>\n",
       "      <td>45</td>\n",
       "      <td>True</td>\n",
       "    </tr>\n",
       "    <tr>\n",
       "      <th>1</th>\n",
       "      <td>LN</td>\n",
       "      <td>08:59</td>\n",
       "      <td>21:59</td>\n",
       "      <td>145</td>\n",
       "      <td>2</td>\n",
       "      <td>False</td>\n",
       "    </tr>\n",
       "    <tr>\n",
       "      <th>2</th>\n",
       "      <td>US</td>\n",
       "      <td>10:44</td>\n",
       "      <td>10:48</td>\n",
       "      <td>34</td>\n",
       "      <td>45</td>\n",
       "      <td>False</td>\n",
       "    </tr>\n",
       "    <tr>\n",
       "      <th>3</th>\n",
       "      <td>LN</td>\n",
       "      <td>12:44</td>\n",
       "      <td>12:34</td>\n",
       "      <td>12</td>\n",
       "      <td>12</td>\n",
       "      <td>True</td>\n",
       "    </tr>\n",
       "    <tr>\n",
       "      <th>4</th>\n",
       "      <td>US</td>\n",
       "      <td>9:34</td>\n",
       "      <td>11:34</td>\n",
       "      <td>4</td>\n",
       "      <td>5</td>\n",
       "      <td>False</td>\n",
       "    </tr>\n",
       "    <tr>\n",
       "      <th>5</th>\n",
       "      <td>BZ</td>\n",
       "      <td>05:44</td>\n",
       "      <td>09:55</td>\n",
       "      <td>43</td>\n",
       "      <td>55</td>\n",
       "      <td>None</td>\n",
       "    </tr>\n",
       "  </tbody>\n",
       "</table>\n",
       "</div>"
      ],
      "text/plain": [
       "  exchange start_time end_time  price  avg_price within_hours\n",
       "0       LN      09:34    09:39    452         45         True\n",
       "1       LN      08:59    21:59    145          2        False\n",
       "2       US      10:44    10:48     34         45        False\n",
       "3       LN      12:44    12:34     12         12         True\n",
       "4       US       9:34    11:34      4          5        False\n",
       "5       BZ      05:44    09:55     43         55         None"
      ]
     },
     "execution_count": 8,
     "metadata": {},
     "output_type": "execute_result"
    }
   ],
   "source": [
    "example_df"
   ]
  },
  {
   "cell_type": "markdown",
   "metadata": {},
   "source": [
    "---"
   ]
  },
  {
   "cell_type": "code",
   "execution_count": 9,
   "metadata": {},
   "outputs": [
    {
     "data": {
      "text/plain": [
       "{'LN': 'WE', 'US': 'NA'}"
      ]
     },
     "execution_count": 9,
     "metadata": {},
     "output_type": "execute_result"
    }
   ],
   "source": [
    "exchange_map = {}\n",
    "\n",
    "for key, value in exchange_info.items():\n",
    "    exchange_map[key] = value[\"region\"]\n",
    "    \n",
    "exchange_map"
   ]
  },
  {
   "cell_type": "code",
   "execution_count": 10,
   "metadata": {},
   "outputs": [
    {
     "data": {
      "text/html": [
       "<div>\n",
       "<style scoped>\n",
       "    .dataframe tbody tr th:only-of-type {\n",
       "        vertical-align: middle;\n",
       "    }\n",
       "\n",
       "    .dataframe tbody tr th {\n",
       "        vertical-align: top;\n",
       "    }\n",
       "\n",
       "    .dataframe thead th {\n",
       "        text-align: right;\n",
       "    }\n",
       "</style>\n",
       "<table border=\"1\" class=\"dataframe\">\n",
       "  <thead>\n",
       "    <tr style=\"text-align: right;\">\n",
       "      <th></th>\n",
       "      <th>exchange</th>\n",
       "      <th>start_time</th>\n",
       "      <th>end_time</th>\n",
       "      <th>price</th>\n",
       "      <th>avg_price</th>\n",
       "      <th>within_hours</th>\n",
       "      <th>region</th>\n",
       "    </tr>\n",
       "  </thead>\n",
       "  <tbody>\n",
       "    <tr>\n",
       "      <th>0</th>\n",
       "      <td>LN</td>\n",
       "      <td>09:34</td>\n",
       "      <td>09:39</td>\n",
       "      <td>452</td>\n",
       "      <td>45</td>\n",
       "      <td>True</td>\n",
       "      <td>WE</td>\n",
       "    </tr>\n",
       "    <tr>\n",
       "      <th>1</th>\n",
       "      <td>LN</td>\n",
       "      <td>08:59</td>\n",
       "      <td>21:59</td>\n",
       "      <td>145</td>\n",
       "      <td>2</td>\n",
       "      <td>False</td>\n",
       "      <td>WE</td>\n",
       "    </tr>\n",
       "    <tr>\n",
       "      <th>2</th>\n",
       "      <td>US</td>\n",
       "      <td>10:44</td>\n",
       "      <td>10:48</td>\n",
       "      <td>34</td>\n",
       "      <td>45</td>\n",
       "      <td>False</td>\n",
       "      <td>NA</td>\n",
       "    </tr>\n",
       "    <tr>\n",
       "      <th>3</th>\n",
       "      <td>LN</td>\n",
       "      <td>12:44</td>\n",
       "      <td>12:34</td>\n",
       "      <td>12</td>\n",
       "      <td>12</td>\n",
       "      <td>True</td>\n",
       "      <td>WE</td>\n",
       "    </tr>\n",
       "    <tr>\n",
       "      <th>4</th>\n",
       "      <td>US</td>\n",
       "      <td>9:34</td>\n",
       "      <td>11:34</td>\n",
       "      <td>4</td>\n",
       "      <td>5</td>\n",
       "      <td>False</td>\n",
       "      <td>NA</td>\n",
       "    </tr>\n",
       "    <tr>\n",
       "      <th>5</th>\n",
       "      <td>BZ</td>\n",
       "      <td>05:44</td>\n",
       "      <td>09:55</td>\n",
       "      <td>43</td>\n",
       "      <td>55</td>\n",
       "      <td>None</td>\n",
       "      <td>NaN</td>\n",
       "    </tr>\n",
       "  </tbody>\n",
       "</table>\n",
       "</div>"
      ],
      "text/plain": [
       "  exchange start_time end_time  price  avg_price within_hours region\n",
       "0       LN      09:34    09:39    452         45         True     WE\n",
       "1       LN      08:59    21:59    145          2        False     WE\n",
       "2       US      10:44    10:48     34         45        False     NA\n",
       "3       LN      12:44    12:34     12         12         True     WE\n",
       "4       US       9:34    11:34      4          5        False     NA\n",
       "5       BZ      05:44    09:55     43         55         None    NaN"
      ]
     },
     "execution_count": 10,
     "metadata": {},
     "output_type": "execute_result"
    }
   ],
   "source": [
    "example_df[\"region\"] = example_df[\"exchange\"].map(exchange_map)\n",
    "\n",
    "example_df"
   ]
  },
  {
   "cell_type": "markdown",
   "metadata": {},
   "source": [
    "---"
   ]
  },
  {
   "cell_type": "code",
   "execution_count": 11,
   "metadata": {},
   "outputs": [
    {
     "data": {
      "text/plain": [
       "{'LN': 1.2853, 'US': 1}"
      ]
     },
     "execution_count": 11,
     "metadata": {},
     "output_type": "execute_result"
    }
   ],
   "source": [
    "exchange_rate = {}\n",
    "\n",
    "for key, value in exchange_info.items():\n",
    "    exchange_rate[key] = value[\"exchange_rate\"]\n",
    "    \n",
    "exchange_rate"
   ]
  },
  {
   "cell_type": "code",
   "execution_count": 12,
   "metadata": {},
   "outputs": [],
   "source": [
    "pre_multi = example_df.copy()"
   ]
  },
  {
   "cell_type": "code",
   "execution_count": 13,
   "metadata": {},
   "outputs": [],
   "source": [
    "price_columns = [\"price\", \"avg_price\"]\n",
    "\n",
    "for price_column in price_columns:\n",
    "    example_df[price_column] = example_df[\"exchange\"].map(exchange_rate) * example_df[price_column]"
   ]
  },
  {
   "cell_type": "code",
   "execution_count": 14,
   "metadata": {},
   "outputs": [
    {
     "data": {
      "text/plain": [
       "{'LN': 1.2853, 'US': 1}"
      ]
     },
     "execution_count": 14,
     "metadata": {},
     "output_type": "execute_result"
    }
   ],
   "source": [
    "exchange_rate"
   ]
  },
  {
   "cell_type": "code",
   "execution_count": 15,
   "metadata": {},
   "outputs": [
    {
     "data": {
      "text/html": [
       "<div>\n",
       "<style scoped>\n",
       "    .dataframe tbody tr th:only-of-type {\n",
       "        vertical-align: middle;\n",
       "    }\n",
       "\n",
       "    .dataframe tbody tr th {\n",
       "        vertical-align: top;\n",
       "    }\n",
       "\n",
       "    .dataframe thead th {\n",
       "        text-align: right;\n",
       "    }\n",
       "</style>\n",
       "<table border=\"1\" class=\"dataframe\">\n",
       "  <thead>\n",
       "    <tr style=\"text-align: right;\">\n",
       "      <th></th>\n",
       "      <th>exchange</th>\n",
       "      <th>start_time</th>\n",
       "      <th>end_time</th>\n",
       "      <th>price</th>\n",
       "      <th>avg_price</th>\n",
       "      <th>within_hours</th>\n",
       "      <th>region</th>\n",
       "    </tr>\n",
       "  </thead>\n",
       "  <tbody>\n",
       "    <tr>\n",
       "      <th>0</th>\n",
       "      <td>LN</td>\n",
       "      <td>09:34</td>\n",
       "      <td>09:39</td>\n",
       "      <td>452</td>\n",
       "      <td>45</td>\n",
       "      <td>True</td>\n",
       "      <td>WE</td>\n",
       "    </tr>\n",
       "    <tr>\n",
       "      <th>1</th>\n",
       "      <td>LN</td>\n",
       "      <td>08:59</td>\n",
       "      <td>21:59</td>\n",
       "      <td>145</td>\n",
       "      <td>2</td>\n",
       "      <td>False</td>\n",
       "      <td>WE</td>\n",
       "    </tr>\n",
       "    <tr>\n",
       "      <th>2</th>\n",
       "      <td>US</td>\n",
       "      <td>10:44</td>\n",
       "      <td>10:48</td>\n",
       "      <td>34</td>\n",
       "      <td>45</td>\n",
       "      <td>False</td>\n",
       "      <td>NA</td>\n",
       "    </tr>\n",
       "    <tr>\n",
       "      <th>3</th>\n",
       "      <td>LN</td>\n",
       "      <td>12:44</td>\n",
       "      <td>12:34</td>\n",
       "      <td>12</td>\n",
       "      <td>12</td>\n",
       "      <td>True</td>\n",
       "      <td>WE</td>\n",
       "    </tr>\n",
       "    <tr>\n",
       "      <th>4</th>\n",
       "      <td>US</td>\n",
       "      <td>9:34</td>\n",
       "      <td>11:34</td>\n",
       "      <td>4</td>\n",
       "      <td>5</td>\n",
       "      <td>False</td>\n",
       "      <td>NA</td>\n",
       "    </tr>\n",
       "    <tr>\n",
       "      <th>5</th>\n",
       "      <td>BZ</td>\n",
       "      <td>05:44</td>\n",
       "      <td>09:55</td>\n",
       "      <td>43</td>\n",
       "      <td>55</td>\n",
       "      <td>None</td>\n",
       "      <td>NaN</td>\n",
       "    </tr>\n",
       "  </tbody>\n",
       "</table>\n",
       "</div>"
      ],
      "text/plain": [
       "  exchange start_time end_time  price  avg_price within_hours region\n",
       "0       LN      09:34    09:39    452         45         True     WE\n",
       "1       LN      08:59    21:59    145          2        False     WE\n",
       "2       US      10:44    10:48     34         45        False     NA\n",
       "3       LN      12:44    12:34     12         12         True     WE\n",
       "4       US       9:34    11:34      4          5        False     NA\n",
       "5       BZ      05:44    09:55     43         55         None    NaN"
      ]
     },
     "execution_count": 15,
     "metadata": {},
     "output_type": "execute_result"
    }
   ],
   "source": [
    "pre_multi"
   ]
  },
  {
   "cell_type": "code",
   "execution_count": 16,
   "metadata": {},
   "outputs": [
    {
     "data": {
      "text/html": [
       "<div>\n",
       "<style scoped>\n",
       "    .dataframe tbody tr th:only-of-type {\n",
       "        vertical-align: middle;\n",
       "    }\n",
       "\n",
       "    .dataframe tbody tr th {\n",
       "        vertical-align: top;\n",
       "    }\n",
       "\n",
       "    .dataframe thead th {\n",
       "        text-align: right;\n",
       "    }\n",
       "</style>\n",
       "<table border=\"1\" class=\"dataframe\">\n",
       "  <thead>\n",
       "    <tr style=\"text-align: right;\">\n",
       "      <th></th>\n",
       "      <th>exchange</th>\n",
       "      <th>start_time</th>\n",
       "      <th>end_time</th>\n",
       "      <th>price</th>\n",
       "      <th>avg_price</th>\n",
       "      <th>within_hours</th>\n",
       "      <th>region</th>\n",
       "    </tr>\n",
       "  </thead>\n",
       "  <tbody>\n",
       "    <tr>\n",
       "      <th>0</th>\n",
       "      <td>LN</td>\n",
       "      <td>09:34</td>\n",
       "      <td>09:39</td>\n",
       "      <td>580.9556</td>\n",
       "      <td>57.8385</td>\n",
       "      <td>True</td>\n",
       "      <td>WE</td>\n",
       "    </tr>\n",
       "    <tr>\n",
       "      <th>1</th>\n",
       "      <td>LN</td>\n",
       "      <td>08:59</td>\n",
       "      <td>21:59</td>\n",
       "      <td>186.3685</td>\n",
       "      <td>2.5706</td>\n",
       "      <td>False</td>\n",
       "      <td>WE</td>\n",
       "    </tr>\n",
       "    <tr>\n",
       "      <th>2</th>\n",
       "      <td>US</td>\n",
       "      <td>10:44</td>\n",
       "      <td>10:48</td>\n",
       "      <td>34.0000</td>\n",
       "      <td>45.0000</td>\n",
       "      <td>False</td>\n",
       "      <td>NA</td>\n",
       "    </tr>\n",
       "    <tr>\n",
       "      <th>3</th>\n",
       "      <td>LN</td>\n",
       "      <td>12:44</td>\n",
       "      <td>12:34</td>\n",
       "      <td>15.4236</td>\n",
       "      <td>15.4236</td>\n",
       "      <td>True</td>\n",
       "      <td>WE</td>\n",
       "    </tr>\n",
       "    <tr>\n",
       "      <th>4</th>\n",
       "      <td>US</td>\n",
       "      <td>9:34</td>\n",
       "      <td>11:34</td>\n",
       "      <td>4.0000</td>\n",
       "      <td>5.0000</td>\n",
       "      <td>False</td>\n",
       "      <td>NA</td>\n",
       "    </tr>\n",
       "    <tr>\n",
       "      <th>5</th>\n",
       "      <td>BZ</td>\n",
       "      <td>05:44</td>\n",
       "      <td>09:55</td>\n",
       "      <td>NaN</td>\n",
       "      <td>NaN</td>\n",
       "      <td>None</td>\n",
       "      <td>NaN</td>\n",
       "    </tr>\n",
       "  </tbody>\n",
       "</table>\n",
       "</div>"
      ],
      "text/plain": [
       "  exchange start_time end_time     price  avg_price within_hours region\n",
       "0       LN      09:34    09:39  580.9556    57.8385         True     WE\n",
       "1       LN      08:59    21:59  186.3685     2.5706        False     WE\n",
       "2       US      10:44    10:48   34.0000    45.0000        False     NA\n",
       "3       LN      12:44    12:34   15.4236    15.4236         True     WE\n",
       "4       US       9:34    11:34    4.0000     5.0000        False     NA\n",
       "5       BZ      05:44    09:55       NaN        NaN         None    NaN"
      ]
     },
     "execution_count": 16,
     "metadata": {},
     "output_type": "execute_result"
    }
   ],
   "source": [
    "example_df"
   ]
  },
  {
   "cell_type": "markdown",
   "metadata": {},
   "source": [
    "## Action Plan for 11/10/2023\n",
    "- Create .py file containing a dictionary which holds exchange information\n",
    "- Use the .apply() function to map all of the regions, exchange rates, and whether the trade was within the opening/close hours\n",
    "- Investigate the use of trade_value and qty_executed as the weights for analysis"
   ]
  }
 ],
 "metadata": {
  "kernelspec": {
   "display_name": "Python 3",
   "language": "python",
   "name": "python3"
  },
  "language_info": {
   "codemirror_mode": {
    "name": "ipython",
    "version": 3
   },
   "file_extension": ".py",
   "mimetype": "text/x-python",
   "name": "python",
   "nbconvert_exporter": "python",
   "pygments_lexer": "ipython3",
   "version": "3.11.1"
  }
 },
 "nbformat": 4,
 "nbformat_minor": 2
}
