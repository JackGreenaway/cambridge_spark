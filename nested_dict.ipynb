{
 "cells": [
  {
   "cell_type": "code",
   "execution_count": 27,
   "metadata": {},
   "outputs": [],
   "source": [
    "exchange_info = {\n",
    "    \"LN\": {\n",
    "        \"start\": \"09:30\",\n",
    "        \"end\": \"17:30\",\n",
    "        \"exchange_rate\": 1.2853,\n",
    "        \"region\": \"WE\",\n",
    "        \"name\": \"London\"\n",
    "    },\n",
    "    \"US\": {\n",
    "        \"start\": \"13:30\",\n",
    "        \"end\": \"21:30\",\n",
    "        \"exchange_rate\": 1,\n",
    "        \"region\": \"NA\",\n",
    "        \"name\": \"United States\"\n",
    "    }\n",
    "}"
   ]
  },
  {
   "cell_type": "code",
   "execution_count": 28,
   "metadata": {},
   "outputs": [
    {
     "data": {
      "text/plain": [
       "{'LN': {'start': '09:30',\n",
       "  'end': '17:30',\n",
       "  'exchange_rate': 1.2853,\n",
       "  'region': 'WE',\n",
       "  'name': 'London'},\n",
       " 'US': {'start': '13:30',\n",
       "  'end': '21:30',\n",
       "  'exchange_rate': 1,\n",
       "  'region': 'NA',\n",
       "  'name': 'United States'}}"
      ]
     },
     "execution_count": 28,
     "metadata": {},
     "output_type": "execute_result"
    }
   ],
   "source": [
    "exchange_info"
   ]
  },
  {
   "cell_type": "code",
   "execution_count": 29,
   "metadata": {},
   "outputs": [],
   "source": [
    "exchange_map = {}\n",
    "for key, value in exchange_info.items():\n",
    "    exchange_map[key] = value[\"region\"]"
   ]
  },
  {
   "cell_type": "code",
   "execution_count": 30,
   "metadata": {},
   "outputs": [
    {
     "data": {
      "text/plain": [
       "{'LN': 'WE', 'US': 'NA'}"
      ]
     },
     "execution_count": 30,
     "metadata": {},
     "output_type": "execute_result"
    }
   ],
   "source": [
    "exchange_map"
   ]
  }
 ],
 "metadata": {
  "kernelspec": {
   "display_name": "Python 3",
   "language": "python",
   "name": "python3"
  },
  "language_info": {
   "codemirror_mode": {
    "name": "ipython",
    "version": 3
   },
   "file_extension": ".py",
   "mimetype": "text/x-python",
   "name": "python",
   "nbconvert_exporter": "python",
   "pygments_lexer": "ipython3",
   "version": "3.11.1"
  }
 },
 "nbformat": 4,
 "nbformat_minor": 2
}
