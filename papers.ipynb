{
 "cells": [
  {
   "cell_type": "markdown",
   "metadata": {},
   "source": [
    "eq tca"
   ]
  },
  {
   "cell_type": "code",
   "execution_count": null,
   "metadata": {},
   "outputs": [],
   "source": [
    "import pymc3 as pm\n",
    "import numpy as np\n",
    "import matplotlib.pyplot as plt"
   ]
  },
  {
   "cell_type": "code",
   "execution_count": null,
   "metadata": {},
   "outputs": [],
   "source": [
    "# Generate synthetic data\n",
    "np.random.seed(42)\n",
    "X = np.linspace(0, 10, 50)\n",
    "true_slope = 2\n",
    "true_intercept = 1\n",
    "true_noise = 1\n",
    "y_true = true_slope * X + true_intercept + np.random.normal(0, true_noise, size=len(X))"
   ]
  },
  {
   "cell_type": "code",
   "execution_count": null,
   "metadata": {},
   "outputs": [],
   "source": [
    "# Specify the Bayesian linear regression model\n",
    "with pm.Model() as linear_model:\n",
    "    # Priors\n",
    "    slope = pm.Normal('slope', mu=0, sd=10)\n",
    "    intercept = pm.Normal('intercept', mu=0, sd=10)\n",
    "    noise = pm.HalfNormal('noise', sd=1)\n",
    "\n",
    "    # Likelihood\n",
    "    y_obs = pm.Normal('y_obs', mu=slope*X + intercept, sd=noise, observed=y_true)\n",
    "\n",
    "    # Sample from the posterior using MCMC (Metropolis-Hastings)\n",
    "    trace = pm.sample(2000, tune=1000, cores=1)  # Adjust as needed"
   ]
  },
  {
   "cell_type": "code",
   "execution_count": null,
   "metadata": {},
   "outputs": [],
   "source": [
    "# Plot the posterior distributions\n",
    "pm.plot_posterior(trace)\n",
    "plt.show()"
   ]
  },
  {
   "cell_type": "code",
   "execution_count": null,
   "metadata": {},
   "outputs": [],
   "source": [
    "# Extract posterior samples\n",
    "slope_samples = trace['slope']\n",
    "intercept_samples = trace['intercept']\n",
    "noise_samples = trace['noise']"
   ]
  },
  {
   "cell_type": "code",
   "execution_count": null,
   "metadata": {},
   "outputs": [],
   "source": [
    "# Make predictions for new data\n",
    "new_X = np.linspace(0, 12, 50)  # New data points\n",
    "num_samples = len(slope_samples)"
   ]
  },
  {
   "cell_type": "code",
   "execution_count": null,
   "metadata": {},
   "outputs": [],
   "source": [
    "# Simulate predictions for each posterior sample\n",
    "y_pred_samples = np.random.normal(slope_samples[:, None] * new_X + intercept_samples[:, None], noise_samples[:, None])"
   ]
  },
  {
   "cell_type": "code",
   "execution_count": null,
   "metadata": {},
   "outputs": [],
   "source": [
    "# Plot the predictions\n",
    "plt.figure(figsize=(10, 6))\n",
    "plt.plot(X, y_true, 'bo', label='True data')\n",
    "plt.plot(new_X, y_pred_samples.mean(axis=0), 'r-', label='Mean Prediction')\n",
    "plt.fill_between(new_X, np.percentile(y_pred_samples, 2.5, axis=0), np.percentile(y_pred_samples, 97.5, axis=0), color='r', alpha=0.2, label='95% Credible Interval')\n",
    "plt.xlabel('X')\n",
    "plt.ylabel('Y')\n",
    "plt.legend()\n",
    "plt.show()"
   ]
  },
  {
   "cell_type": "markdown",
   "metadata": {},
   "source": [
    "fi tca"
   ]
  },
  {
   "cell_type": "code",
   "execution_count": null,
   "metadata": {},
   "outputs": [],
   "source": [
    "from iminuit import Minuit\n",
    "import numpy as np"
   ]
  },
  {
   "cell_type": "code",
   "execution_count": null,
   "metadata": {},
   "outputs": [],
   "source": [
    "# Define the negative log-likelihood function (example: Gaussian likelihood)\n",
    "def negative_log_likelihood(mu, sigma, data):\n",
    "    return np.sum(0.5 * ((data - mu) / sigma)**2 + 0.5 * np.log(2 * np.pi * sigma**2))"
   ]
  },
  {
   "cell_type": "code",
   "execution_count": null,
   "metadata": {},
   "outputs": [],
   "source": [
    "# Generate some synthetic data\n",
    "np.random.seed(42)\n",
    "true_mu = 2.0\n",
    "true_sigma = 1.0\n",
    "data = np.random.normal(true_mu, true_sigma, size=100)"
   ]
  },
  {
   "cell_type": "code",
   "execution_count": null,
   "metadata": {},
   "outputs": [],
   "source": [
    "# Initial parameter values and step sizes\n",
    "initial_values = {'mu': 1.0, 'sigma': 0.5}\n",
    "step_sizes = {'mu': 0.1, 'sigma': 0.1}"
   ]
  },
  {
   "cell_type": "code",
   "execution_count": null,
   "metadata": {},
   "outputs": [],
   "source": [
    "# Create a Minuit object and minimize the negative log-likelihood\n",
    "minuit = Minuit(negative_log_likelihood, **initial_values, pedantic=False, print_level=1)\n",
    "minuit.errordef = Minuit.LIKELIHOOD  # Set the error definition to likelihood\n",
    "minuit.migrad(ncall=10000, precision=1e-5, steps=step_sizes)"
   ]
  },
  {
   "cell_type": "code",
   "execution_count": null,
   "metadata": {},
   "outputs": [],
   "source": [
    "# Access the results\n",
    "best_fit_parameters = minuit.values\n",
    "covariance_matrix = minuit.covariance_matrix"
   ]
  },
  {
   "cell_type": "code",
   "execution_count": null,
   "metadata": {},
   "outputs": [],
   "source": [
    "# Print the results\n",
    "print(\"Best-fit parameters:\", best_fit_parameters)\n",
    "print(\"Covariance matrix:\", covariance_matrix)"
   ]
  }
 ],
 "metadata": {
  "kernelspec": {
   "display_name": "Python 3",
   "language": "python",
   "name": "python3"
  },
  "language_info": {
   "codemirror_mode": {
    "name": "ipython",
    "version": 3
   },
   "file_extension": ".py",
   "mimetype": "text/x-python",
   "name": "python",
   "nbconvert_exporter": "python",
   "pygments_lexer": "ipython3",
   "version": "3.9.13"
  }
 },
 "nbformat": 4,
 "nbformat_minor": 2
}
