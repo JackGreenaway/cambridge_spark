{
 "cells": [
  {
   "cell_type": "code",
   "execution_count": 4,
   "metadata": {},
   "outputs": [],
   "source": [
    "import pandas as pd\n",
    "import numpy as np"
   ]
  },
  {
   "cell_type": "code",
   "execution_count": 76,
   "metadata": {},
   "outputs": [],
   "source": [
    "def generate_samples(num_samples):\n",
    "    features = {\n",
    "        \"feature1\": np.random.choice([\"A\", \"B\"], size=num_samples, p=[0.35, 0.65]),\n",
    "        \"feature2\": np.random.choice([\"X\", \"Y\", \"Z\"], size=num_samples, p=[0.11, 0.49, 0.4]),\n",
    "        \"feature3\": np.random.choice([\"X\", \"Y\", \"Z\", \"A\", \"C\"], size=num_samples, p=[0.33, 0.23, 0.07, 0.075, 0.295]),\n",
    "        \"target\": np.random.choice([\"class1\", \"class2\", \"class3\", \"class4\"], size=num_samples, p=[0.46, 0.33, 0.11, 0.1])\n",
    "    }\n",
    "    return features"
   ]
  },
  {
   "cell_type": "code",
   "execution_count": 77,
   "metadata": {},
   "outputs": [
    {
     "data": {
      "text/plain": [
       "1.0"
      ]
     },
     "execution_count": 77,
     "metadata": {},
     "output_type": "execute_result"
    }
   ],
   "source": [
    "np.sum([0.33, 0.23, 0.07, 0.075, 0.295])"
   ]
  },
  {
   "cell_type": "code",
   "execution_count": 78,
   "metadata": {},
   "outputs": [],
   "source": [
    "df = pd.DataFrame(generate_samples(500))"
   ]
  },
  {
   "cell_type": "code",
   "execution_count": 79,
   "metadata": {},
   "outputs": [],
   "source": [
    "from sklearn.preprocessing import TargetEncoder"
   ]
  },
  {
   "cell_type": "code",
   "execution_count": 80,
   "metadata": {},
   "outputs": [],
   "source": [
    "x = df.drop(columns=[\"target\"])\n",
    "y = df[\"target\"]"
   ]
  },
  {
   "cell_type": "code",
   "execution_count": 91,
   "metadata": {},
   "outputs": [
    {
     "data": {
      "text/plain": [
       "(500, 12)"
      ]
     },
     "execution_count": 91,
     "metadata": {},
     "output_type": "execute_result"
    }
   ],
   "source": [
    "tc = TargetEncoder(target_type=\"multiclass\", cv=5)\n",
    "encoded = tc.fit_transform(x, y)\n",
    "\n",
    "a = pd.DataFrame(encoded, columns=tc.get_feature_names_out())\n",
    "a.shape"
   ]
  },
  {
   "cell_type": "code",
   "execution_count": 85,
   "metadata": {},
   "outputs": [
    {
     "data": {
      "text/html": [
       "<div>\n",
       "<style scoped>\n",
       "    .dataframe tbody tr th:only-of-type {\n",
       "        vertical-align: middle;\n",
       "    }\n",
       "\n",
       "    .dataframe tbody tr th {\n",
       "        vertical-align: top;\n",
       "    }\n",
       "\n",
       "    .dataframe thead th {\n",
       "        text-align: right;\n",
       "    }\n",
       "</style>\n",
       "<table border=\"1\" class=\"dataframe\">\n",
       "  <thead>\n",
       "    <tr style=\"text-align: right;\">\n",
       "      <th></th>\n",
       "      <th>feature1_class1</th>\n",
       "      <th>feature1_class2</th>\n",
       "      <th>feature1_class3</th>\n",
       "      <th>feature1_class4</th>\n",
       "      <th>feature2_class1</th>\n",
       "      <th>feature2_class2</th>\n",
       "      <th>feature2_class3</th>\n",
       "      <th>feature2_class4</th>\n",
       "      <th>feature3_class1</th>\n",
       "      <th>feature3_class2</th>\n",
       "      <th>feature3_class3</th>\n",
       "      <th>feature3_class4</th>\n",
       "    </tr>\n",
       "  </thead>\n",
       "  <tbody>\n",
       "    <tr>\n",
       "      <th>0</th>\n",
       "      <td>0.455966</td>\n",
       "      <td>0.363994</td>\n",
       "      <td>0.103994</td>\n",
       "      <td>0.07604</td>\n",
       "      <td>0.451755</td>\n",
       "      <td>0.365467</td>\n",
       "      <td>0.111625</td>\n",
       "      <td>0.071135</td>\n",
       "      <td>0.481765</td>\n",
       "      <td>0.345444</td>\n",
       "      <td>0.093584</td>\n",
       "      <td>0.079191</td>\n",
       "    </tr>\n",
       "    <tr>\n",
       "      <th>1</th>\n",
       "      <td>0.462974</td>\n",
       "      <td>0.346365</td>\n",
       "      <td>0.105048</td>\n",
       "      <td>0.08561</td>\n",
       "      <td>0.449092</td>\n",
       "      <td>0.347394</td>\n",
       "      <td>0.101801</td>\n",
       "      <td>0.101699</td>\n",
       "      <td>0.444470</td>\n",
       "      <td>0.375952</td>\n",
       "      <td>0.085593</td>\n",
       "      <td>0.093958</td>\n",
       "    </tr>\n",
       "    <tr>\n",
       "      <th>2</th>\n",
       "      <td>0.470265</td>\n",
       "      <td>0.339998</td>\n",
       "      <td>0.106702</td>\n",
       "      <td>0.08303</td>\n",
       "      <td>0.455406</td>\n",
       "      <td>0.376156</td>\n",
       "      <td>0.108878</td>\n",
       "      <td>0.059509</td>\n",
       "      <td>0.487271</td>\n",
       "      <td>0.314402</td>\n",
       "      <td>0.107396</td>\n",
       "      <td>0.090902</td>\n",
       "    </tr>\n",
       "    <tr>\n",
       "      <th>3</th>\n",
       "      <td>0.455966</td>\n",
       "      <td>0.363994</td>\n",
       "      <td>0.103994</td>\n",
       "      <td>0.07604</td>\n",
       "      <td>0.468102</td>\n",
       "      <td>0.344305</td>\n",
       "      <td>0.063281</td>\n",
       "      <td>0.123461</td>\n",
       "      <td>0.434532</td>\n",
       "      <td>0.385056</td>\n",
       "      <td>0.098393</td>\n",
       "      <td>0.082010</td>\n",
       "    </tr>\n",
       "    <tr>\n",
       "      <th>4</th>\n",
       "      <td>0.455966</td>\n",
       "      <td>0.363994</td>\n",
       "      <td>0.103994</td>\n",
       "      <td>0.07604</td>\n",
       "      <td>0.451755</td>\n",
       "      <td>0.365467</td>\n",
       "      <td>0.111625</td>\n",
       "      <td>0.071135</td>\n",
       "      <td>0.434532</td>\n",
       "      <td>0.385056</td>\n",
       "      <td>0.098393</td>\n",
       "      <td>0.082010</td>\n",
       "    </tr>\n",
       "  </tbody>\n",
       "</table>\n",
       "</div>"
      ],
      "text/plain": [
       "   feature1_class1  feature1_class2  feature1_class3  feature1_class4  \\\n",
       "0         0.455966         0.363994         0.103994          0.07604   \n",
       "1         0.462974         0.346365         0.105048          0.08561   \n",
       "2         0.470265         0.339998         0.106702          0.08303   \n",
       "3         0.455966         0.363994         0.103994          0.07604   \n",
       "4         0.455966         0.363994         0.103994          0.07604   \n",
       "\n",
       "   feature2_class1  feature2_class2  feature2_class3  feature2_class4  \\\n",
       "0         0.451755         0.365467         0.111625         0.071135   \n",
       "1         0.449092         0.347394         0.101801         0.101699   \n",
       "2         0.455406         0.376156         0.108878         0.059509   \n",
       "3         0.468102         0.344305         0.063281         0.123461   \n",
       "4         0.451755         0.365467         0.111625         0.071135   \n",
       "\n",
       "   feature3_class1  feature3_class2  feature3_class3  feature3_class4  \n",
       "0         0.481765         0.345444         0.093584         0.079191  \n",
       "1         0.444470         0.375952         0.085593         0.093958  \n",
       "2         0.487271         0.314402         0.107396         0.090902  \n",
       "3         0.434532         0.385056         0.098393         0.082010  \n",
       "4         0.434532         0.385056         0.098393         0.082010  "
      ]
     },
     "execution_count": 85,
     "metadata": {},
     "output_type": "execute_result"
    }
   ],
   "source": [
    "a.head()"
   ]
  },
  {
   "cell_type": "code",
   "execution_count": null,
   "metadata": {},
   "outputs": [],
   "source": []
  }
 ],
 "metadata": {
  "kernelspec": {
   "display_name": "Python 3",
   "language": "python",
   "name": "python3"
  },
  "language_info": {
   "codemirror_mode": {
    "name": "ipython",
    "version": 3
   },
   "file_extension": ".py",
   "mimetype": "text/x-python",
   "name": "python",
   "nbconvert_exporter": "python",
   "pygments_lexer": "ipython3",
   "version": "3.9.13"
  }
 },
 "nbformat": 4,
 "nbformat_minor": 2
}
