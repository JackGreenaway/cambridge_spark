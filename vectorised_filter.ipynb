{
 "cells": [
  {
   "cell_type": "code",
   "execution_count": 1,
   "metadata": {},
   "outputs": [],
   "source": [
    "import pandas as pd\n",
    "import numpy as np"
   ]
  },
  {
   "cell_type": "code",
   "execution_count": 2,
   "metadata": {},
   "outputs": [],
   "source": [
    "df = pd.read_csv(\"data/train.csv\", index_col=[0])"
   ]
  },
  {
   "cell_type": "code",
   "execution_count": 3,
   "metadata": {},
   "outputs": [],
   "source": [
    "r_masks = [\n",
    "    [\"zoning\", df[\"MSZoning\"] == \"RM\"],\n",
    "    [\"lotconfig\", df[\"LotConfig\"].isin([\"Inside\", \"FR2\"])],\n",
    "    [\"lotarea\", (df[\"LotArea\"] > 8000) & (df[\"LotArea\"] < 12_000)]\n",
    "]"
   ]
  },
  {
   "cell_type": "code",
   "execution_count": 88,
   "metadata": {},
   "outputs": [],
   "source": [
    "masks = [mask for _, mask in r_masks]\n",
    "\n",
    "combined_mask = np.column_stack(masks)\n",
    "\n",
    "abs_removed = - ((np.sum(combined_mask, axis=0) - np.size(df, axis=0)) / np.size(df, axis=0) * 100)"
   ]
  },
  {
   "cell_type": "code",
   "execution_count": 89,
   "metadata": {},
   "outputs": [],
   "source": [
    "filtered_counts = {\n",
    "    name: {\n",
    "        \"absolute\": absolute,\n",
    "        \"relative\": 0,\n",
    "    } \n",
    "    for name, absolute in zip([name for name, _ in r_masks], - abs_removed)\n",
    "}"
   ]
  },
  {
   "cell_type": "code",
   "execution_count": 102,
   "metadata": {},
   "outputs": [],
   "source": [
    "counter = 1\n",
    "previous_feature = None\n",
    "\n",
    "for name, _ in r_masks:\n",
    "    cum_mask = np.logical_and.reduce(combined_mask[:,:counter], axis=1).sum()\n",
    "    \n",
    "    filtered_counts[name][\"relative\"] = (cum_mask - df.shape[0]) / df.shape[0] * 100 if not previous_feature else (cum_mask - previous_remaining) / previous_remaining * 100\n",
    "    \n",
    "    previous_remaining = np.logical_and.reduce(combined_mask[:,:counter], axis=1).sum()\n",
    "    \n",
    "    previous_feature = name \n",
    "    counter += 1"
   ]
  },
  {
   "cell_type": "code",
   "execution_count": 103,
   "metadata": {},
   "outputs": [
    {
     "data": {
      "text/html": [
       "<div>\n",
       "<style scoped>\n",
       "    .dataframe tbody tr th:only-of-type {\n",
       "        vertical-align: middle;\n",
       "    }\n",
       "\n",
       "    .dataframe tbody tr th {\n",
       "        vertical-align: top;\n",
       "    }\n",
       "\n",
       "    .dataframe thead th {\n",
       "        text-align: right;\n",
       "    }\n",
       "</style>\n",
       "<table border=\"1\" class=\"dataframe\">\n",
       "  <thead>\n",
       "    <tr style=\"text-align: right;\">\n",
       "      <th></th>\n",
       "      <th>absolute</th>\n",
       "      <th>relative</th>\n",
       "    </tr>\n",
       "  </thead>\n",
       "  <tbody>\n",
       "    <tr>\n",
       "      <th>zoning</th>\n",
       "      <td>-85.07</td>\n",
       "      <td>-85.07</td>\n",
       "    </tr>\n",
       "    <tr>\n",
       "      <th>lotconfig</th>\n",
       "      <td>-24.73</td>\n",
       "      <td>-18.35</td>\n",
       "    </tr>\n",
       "    <tr>\n",
       "      <th>lotarea</th>\n",
       "      <td>-51.44</td>\n",
       "      <td>-78.65</td>\n",
       "    </tr>\n",
       "  </tbody>\n",
       "</table>\n",
       "</div>"
      ],
      "text/plain": [
       "           absolute  relative\n",
       "zoning       -85.07    -85.07\n",
       "lotconfig    -24.73    -18.35\n",
       "lotarea      -51.44    -78.65"
      ]
     },
     "execution_count": 103,
     "metadata": {},
     "output_type": "execute_result"
    }
   ],
   "source": [
    "pd.DataFrame(filtered_counts).T.round(2)"
   ]
  }
 ],
 "metadata": {
  "kernelspec": {
   "display_name": "Python 3",
   "language": "python",
   "name": "python3"
  },
  "language_info": {
   "codemirror_mode": {
    "name": "ipython",
    "version": 3
   },
   "file_extension": ".py",
   "mimetype": "text/x-python",
   "name": "python",
   "nbconvert_exporter": "python",
   "pygments_lexer": "ipython3",
   "version": "3.9.13"
  },
  "orig_nbformat": 4
 },
 "nbformat": 4,
 "nbformat_minor": 2
}
